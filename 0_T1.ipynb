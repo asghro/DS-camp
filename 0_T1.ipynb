{
  "nbformat": 4,
  "nbformat_minor": 0,
  "metadata": {
    "colab": {
      "provenance": [],
      "authorship_tag": "ABX9TyONUd7diBYht/cQr8wuweuO",
      "include_colab_link": true
    },
    "kernelspec": {
      "name": "python3",
      "display_name": "Python 3"
    },
    "language_info": {
      "name": "python"
    }
  },
  "cells": [
    {
      "cell_type": "markdown",
      "metadata": {
        "id": "view-in-github",
        "colab_type": "text"
      },
      "source": [
        "<a href=\"https://colab.research.google.com/github/asghro/DS-camp/blob/main/0_T1.ipynb\" target=\"_parent\"><img src=\"https://colab.research.google.com/assets/colab-badge.svg\" alt=\"Open In Colab\"/></a>"
      ]
    },
    {
      "cell_type": "code",
      "execution_count": null,
      "metadata": {
        "id": "Vop5iBgoCFbU"
      },
      "outputs": [],
      "source": []
    },
    {
      "cell_type": "markdown",
      "source": [
        "test"
      ],
      "metadata": {
        "id": "sgtU98GxCYVT"
      }
    },
    {
      "cell_type": "code",
      "source": [
        "x = 'World, I am Alvin' # 使用者輸入 'Python'\n",
        "\n",
        "print(\"Hello\",x)\n",
        "\n",
        "print(x) # 結果印出 Hello Python\n",
        "\n"
      ],
      "metadata": {
        "colab": {
          "base_uri": "https://localhost:8080/"
        },
        "id": "_X09q-rICaSY",
        "outputId": "e14d77eb-ed30-4501-faad-922b22357245"
      },
      "execution_count": 3,
      "outputs": [
        {
          "output_type": "stream",
          "name": "stdout",
          "text": [
            "Hello World, I am Alvin\n",
            "World, I am Alvin\n"
          ]
        }
      ]
    }
  ]
}